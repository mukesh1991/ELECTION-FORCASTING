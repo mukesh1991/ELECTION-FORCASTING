{
  "cells": [
    {
      "metadata": {
        "trusted": true
      },
      "cell_type": "markdown",
      "source": "# Election_polling case study-: United States  Presidential Elections \n\n•We’'ll be using polling data from the months \nleading up to a presidential election to \npredict that election's winner. \n•We’ll build a logistic regression model. \n•Select the variables to include in these \nmodels.  \n•Evaluate the model predictions. \n \n##The Dataset-: \n\ndependent variable- republican,1 if republican won the state,otherwise 0 for democtare won.\nindependent variable- Rasmussen,SurveyUS--: polled R% - polled D%\nDiffCounT--: Polls with R Winer# - Polls with D winer#\nPropR--: Polls with R Winer#"
    },
    {
      "metadata": {
        "trusted": true,
        "collapsed": true
      },
      "cell_type": "code",
      "source": "import numpy as np\nimport pandas as pd\nfrom sklearn.linear_model import LogisticRegression\nfrom sklearn.metrics import accuracy_score,auc,confusion_matrix,precision_score,roc_curve\nfrom sklearn.model_selection import train_test_split\nimport matplotlib.pyplot as plt\nimport seaborn as sns",
      "execution_count": null,
      "outputs": []
    },
    {
      "metadata": {
        "trusted": true
      },
      "cell_type": "code",
      "source": "polling = pd.read_csv(\"https://storage.googleapis.com/dimensionless/Analytics/PollingData.csv\")\npolling.head()",
      "execution_count": 140,
      "outputs": [
        {
          "output_type": "execute_result",
          "execution_count": 140,
          "data": {
            "text/html": "<div>\n<style scoped>\n    .dataframe tbody tr th:only-of-type {\n        vertical-align: middle;\n    }\n\n    .dataframe tbody tr th {\n        vertical-align: top;\n    }\n\n    .dataframe thead th {\n        text-align: right;\n    }\n</style>\n<table border=\"1\" class=\"dataframe\">\n  <thead>\n    <tr style=\"text-align: right;\">\n      <th></th>\n      <th>State</th>\n      <th>Year</th>\n      <th>Rasmussen</th>\n      <th>SurveyUSA</th>\n      <th>DiffCount</th>\n      <th>PropR</th>\n      <th>Republican</th>\n    </tr>\n  </thead>\n  <tbody>\n    <tr>\n      <th>0</th>\n      <td>Alabama</td>\n      <td>2004</td>\n      <td>11.0</td>\n      <td>18.0</td>\n      <td>5</td>\n      <td>1.0</td>\n      <td>1</td>\n    </tr>\n    <tr>\n      <th>1</th>\n      <td>Alabama</td>\n      <td>2008</td>\n      <td>21.0</td>\n      <td>25.0</td>\n      <td>5</td>\n      <td>1.0</td>\n      <td>1</td>\n    </tr>\n    <tr>\n      <th>2</th>\n      <td>Alaska</td>\n      <td>2004</td>\n      <td>NaN</td>\n      <td>NaN</td>\n      <td>1</td>\n      <td>1.0</td>\n      <td>1</td>\n    </tr>\n    <tr>\n      <th>3</th>\n      <td>Alaska</td>\n      <td>2008</td>\n      <td>16.0</td>\n      <td>NaN</td>\n      <td>6</td>\n      <td>1.0</td>\n      <td>1</td>\n    </tr>\n    <tr>\n      <th>4</th>\n      <td>Arizona</td>\n      <td>2004</td>\n      <td>5.0</td>\n      <td>15.0</td>\n      <td>8</td>\n      <td>1.0</td>\n      <td>1</td>\n    </tr>\n  </tbody>\n</table>\n</div>",
            "text/plain": "     State  Year  Rasmussen  SurveyUSA  DiffCount  PropR  Republican\n0  Alabama  2004       11.0       18.0          5    1.0           1\n1  Alabama  2008       21.0       25.0          5    1.0           1\n2   Alaska  2004        NaN        NaN          1    1.0           1\n3   Alaska  2008       16.0        NaN          6    1.0           1\n4  Arizona  2004        5.0       15.0          8    1.0           1"
          },
          "metadata": {}
        }
      ]
    },
    {
      "metadata": {
        "trusted": true,
        "collapsed": true
      },
      "cell_type": "code",
      "source": "polling.shape",
      "execution_count": 3,
      "outputs": [
        {
          "output_type": "execute_result",
          "execution_count": 3,
          "data": {
            "text/plain": "(145, 7)"
          },
          "metadata": {}
        }
      ]
    },
    {
      "metadata": {
        "trusted": true,
        "collapsed": true
      },
      "cell_type": "code",
      "source": "sns.lmplot('DiffCount','PropR',data=polling, fit_reg=False, hue='Republican', size=5, legend= True)",
      "execution_count": 12,
      "outputs": [
        {
          "output_type": "stream",
          "text": "/home/nbuser/anaconda3_501/lib/python3.6/site-packages/seaborn/regression.py:546: UserWarning: The `size` paramter has been renamed to `height`; please update your code.\n  warnings.warn(msg, UserWarning)\n",
          "name": "stderr"
        },
        {
          "output_type": "execute_result",
          "execution_count": 12,
          "data": {
            "text/plain": "<seaborn.axisgrid.FacetGrid at 0x7f6ebb735748>"
          },
          "metadata": {}
        },
        {
          "output_type": "display_data",
          "data": {
            "image/png": "[encoded data removed]",
            "text/plain": "<Figure size 423.625x360 with 1 Axes>"
          },
          "metadata": {
            "needs_background": "light"
          }
        }
      ]
    },
    {
      "metadata": {
        "trusted": true,
        "collapsed": true
      },
      "cell_type": "code",
      "source": "polling.isnull().sum()",
      "execution_count": 20,
      "outputs": [
        {
          "output_type": "execute_result",
          "execution_count": 20,
          "data": {
            "text/plain": "State         0\nYear          0\nRasmussen     0\nSurveyUSA     0\nDiffCount     0\nPropR         0\nRepublican    0\ndtype: int64"
          },
          "metadata": {}
        }
      ]
    },
    {
      "metadata": {
        "trusted": true,
        "collapsed": true
      },
      "cell_type": "code",
      "source": "polling['Rasmussen'].fillna(polling['Rasmussen'].mean(), inplace = True)   # method 3\npolling['SurveyUSA'].fillna(polling['SurveyUSA'].mean(), inplace = True)",
      "execution_count": 17,
      "outputs": []
    },
    {
      "metadata": {
        "trusted": true,
        "collapsed": true
      },
      "cell_type": "code",
      "source": "polling.Republican.value_counts()",
      "execution_count": 18,
      "outputs": [
        {
          "output_type": "execute_result",
          "execution_count": 18,
          "data": {
            "text/plain": "1    74\n0    71\nName: Republican, dtype: int64"
          },
          "metadata": {}
        }
      ]
    },
    {
      "metadata": {
        "trusted": true,
        "collapsed": true
      },
      "cell_type": "code",
      "source": "74/(74+71)",
      "execution_count": 19,
      "outputs": [
        {
          "output_type": "execute_result",
          "execution_count": 19,
          "data": {
            "text/plain": "0.5103448275862069"
          },
          "metadata": {}
        }
      ]
    },
    {
      "metadata": {
        "trusted": true,
        "collapsed": true
      },
      "cell_type": "code",
      "source": "#creat featuure matrix and target arry\nx=polling.iloc[:,2:6]\nx.head(10)",
      "execution_count": 21,
      "outputs": [
        {
          "output_type": "execute_result",
          "execution_count": 21,
          "data": {
            "text/html": "<div>\n<style scoped>\n    .dataframe tbody tr th:only-of-type {\n        vertical-align: middle;\n    }\n\n    .dataframe tbody tr th {\n        vertical-align: top;\n    }\n\n    .dataframe thead th {\n        text-align: right;\n    }\n</style>\n<table border=\"1\" class=\"dataframe\">\n  <thead>\n    <tr style=\"text-align: right;\">\n      <th></th>\n      <th>Rasmussen</th>\n      <th>SurveyUSA</th>\n      <th>DiffCount</th>\n      <th>PropR</th>\n    </tr>\n  </thead>\n  <tbody>\n    <tr>\n      <th>0</th>\n      <td>11.000000</td>\n      <td>18.000000</td>\n      <td>5</td>\n      <td>1.000000</td>\n    </tr>\n    <tr>\n      <th>1</th>\n      <td>21.000000</td>\n      <td>25.000000</td>\n      <td>5</td>\n      <td>1.000000</td>\n    </tr>\n    <tr>\n      <th>2</th>\n      <td>0.040404</td>\n      <td>-0.824324</td>\n      <td>1</td>\n      <td>1.000000</td>\n    </tr>\n    <tr>\n      <th>3</th>\n      <td>16.000000</td>\n      <td>-0.824324</td>\n      <td>6</td>\n      <td>1.000000</td>\n    </tr>\n    <tr>\n      <th>4</th>\n      <td>5.000000</td>\n      <td>15.000000</td>\n      <td>8</td>\n      <td>1.000000</td>\n    </tr>\n    <tr>\n      <th>5</th>\n      <td>5.000000</td>\n      <td>-0.824324</td>\n      <td>9</td>\n      <td>1.000000</td>\n    </tr>\n    <tr>\n      <th>6</th>\n      <td>8.000000</td>\n      <td>-0.824324</td>\n      <td>4</td>\n      <td>0.833333</td>\n    </tr>\n    <tr>\n      <th>7</th>\n      <td>7.000000</td>\n      <td>5.000000</td>\n      <td>8</td>\n      <td>1.000000</td>\n    </tr>\n    <tr>\n      <th>8</th>\n      <td>10.000000</td>\n      <td>-0.824324</td>\n      <td>5</td>\n      <td>1.000000</td>\n    </tr>\n    <tr>\n      <th>9</th>\n      <td>0.040404</td>\n      <td>-0.824324</td>\n      <td>2</td>\n      <td>1.000000</td>\n    </tr>\n  </tbody>\n</table>\n</div>",
            "text/plain": "   Rasmussen  SurveyUSA  DiffCount     PropR\n0  11.000000  18.000000          5  1.000000\n1  21.000000  25.000000          5  1.000000\n2   0.040404  -0.824324          1  1.000000\n3  16.000000  -0.824324          6  1.000000\n4   5.000000  15.000000          8  1.000000\n5   5.000000  -0.824324          9  1.000000\n6   8.000000  -0.824324          4  0.833333\n7   7.000000   5.000000          8  1.000000\n8  10.000000  -0.824324          5  1.000000\n9   0.040404  -0.824324          2  1.000000"
          },
          "metadata": {}
        }
      ]
    },
    {
      "metadata": {
        "trusted": true,
        "collapsed": true
      },
      "cell_type": "code",
      "source": "y=polling['Republican']\ny.head()",
      "execution_count": 22,
      "outputs": [
        {
          "output_type": "execute_result",
          "execution_count": 22,
          "data": {
            "text/plain": "0    1\n1    1\n2    1\n3    1\n4    1\nName: Republican, dtype: int64"
          },
          "metadata": {}
        }
      ]
    },
    {
      "metadata": {
        "trusted": true,
        "collapsed": true
      },
      "cell_type": "code",
      "source": "#train_test_split\nx_train,x_test,y_train,y_test = train_test_split(x,y,test_size=0.3, random_state=88, stratify=y)",
      "execution_count": 36,
      "outputs": []
    },
    {
      "metadata": {
        "trusted": true,
        "collapsed": true
      },
      "cell_type": "code",
      "source": "x_train.shape,x_test.shape,y_train.shape,y_test.shape",
      "execution_count": 37,
      "outputs": [
        {
          "output_type": "execute_result",
          "execution_count": 37,
          "data": {
            "text/plain": "((101, 4), (44, 4), (101,), (44,))"
          },
          "metadata": {}
        }
      ]
    },
    {
      "metadata": {
        "trusted": true,
        "collapsed": true
      },
      "cell_type": "code",
      "source": "y_train.value_counts()",
      "execution_count": 38,
      "outputs": [
        {
          "output_type": "execute_result",
          "execution_count": 38,
          "data": {
            "text/plain": "1    52\n0    49\nName: Republican, dtype: int64"
          },
          "metadata": {}
        }
      ]
    },
    {
      "metadata": {
        "trusted": true,
        "collapsed": true
      },
      "cell_type": "code",
      "source": "y_test.value_counts()",
      "execution_count": 39,
      "outputs": [
        {
          "output_type": "execute_result",
          "execution_count": 39,
          "data": {
            "text/plain": "1    22\n0    22\nName: Republican, dtype: int64"
          },
          "metadata": {}
        }
      ]
    },
    {
      "metadata": {
        "trusted": true,
        "collapsed": true
      },
      "cell_type": "code",
      "source": "#modelbuilding--#\nmodel=LogisticRegression()\nmodel.fit(x_train[['Rasmussen','DiffCount']],y_train)",
      "execution_count": 40,
      "outputs": [
        {
          "output_type": "stream",
          "text": "/home/nbuser/anaconda3_501/lib/python3.6/site-packages/sklearn/linear_model/logistic.py:433: FutureWarning: Default solver will be changed to 'lbfgs' in 0.22. Specify a solver to silence this warning.\n  FutureWarning)\n",
          "name": "stderr"
        },
        {
          "output_type": "execute_result",
          "execution_count": 40,
          "data": {
            "text/plain": "LogisticRegression(C=1.0, class_weight=None, dual=False, fit_intercept=True,\n          intercept_scaling=1, max_iter=100, multi_class='warn',\n          n_jobs=None, penalty='l2', random_state=None, solver='warn',\n          tol=0.0001, verbose=0, warm_start=False)"
          },
          "metadata": {}
        }
      ]
    },
    {
      "metadata": {
        "trusted": true,
        "collapsed": true
      },
      "cell_type": "code",
      "source": "model.score(x_train[['Rasmussen','DiffCount']],y_train)",
      "execution_count": 41,
      "outputs": [
        {
          "output_type": "execute_result",
          "execution_count": 41,
          "data": {
            "text/plain": "0.9603960396039604"
          },
          "metadata": {}
        }
      ]
    },
    {
      "metadata": {
        "trusted": true,
        "collapsed": true
      },
      "cell_type": "code",
      "source": "#predict on train data\ny_pred_train=model.predict(x_train[['Rasmussen','DiffCount']])",
      "execution_count": 48,
      "outputs": []
    },
    {
      "metadata": {
        "trusted": true,
        "collapsed": true
      },
      "cell_type": "code",
      "source": "confusion_matrix(y_train,y_pred_train)",
      "execution_count": 49,
      "outputs": [
        {
          "output_type": "execute_result",
          "execution_count": 49,
          "data": {
            "text/plain": "array([[45,  4],\n       [ 0, 52]])"
          },
          "metadata": {}
        }
      ]
    },
    {
      "metadata": {
        "trusted": true,
        "collapsed": true
      },
      "cell_type": "code",
      "source": "97/101",
      "execution_count": 50,
      "outputs": [
        {
          "output_type": "execute_result",
          "execution_count": 50,
          "data": {
            "text/plain": "0.9603960396039604"
          },
          "metadata": {}
        }
      ]
    },
    {
      "metadata": {
        "trusted": true,
        "collapsed": true
      },
      "cell_type": "code",
      "source": "pred_train=model.predict(x_train[['Rasmussen','DiffCount']])\npred_train",
      "execution_count": 51,
      "outputs": [
        {
          "output_type": "execute_result",
          "execution_count": 51,
          "data": {
            "text/plain": "array([1, 1, 0, 1, 1, 1, 1, 1, 0, 0, 0, 0, 0, 0, 0, 0, 1, 0, 1, 1, 0, 1,\n       0, 0, 0, 0, 0, 1, 1, 1, 1, 0, 1, 0, 1, 1, 0, 0, 1, 0, 0, 1, 0, 0,\n       1, 1, 1, 0, 0, 1, 1, 1, 0, 1, 0, 1, 1, 0, 0, 0, 1, 0, 1, 1, 1, 1,\n       1, 1, 1, 1, 0, 1, 0, 1, 0, 1, 1, 1, 1, 1, 1, 1, 1, 1, 0, 0, 0, 1,\n       1, 0, 1, 1, 0, 0, 1, 1, 1, 0, 0, 0, 0])"
          },
          "metadata": {}
        }
      ]
    },
    {
      "metadata": {
        "trusted": true,
        "collapsed": true
      },
      "cell_type": "code",
      "source": "pred_train_prob=model.predict_proba(x_train[['Rasmussen','DiffCount']])\npred_train_prob[:5]",
      "execution_count": 52,
      "outputs": [
        {
          "output_type": "execute_result",
          "execution_count": 52,
          "data": {
            "text/plain": "array([[1.07413594e-03, 9.98925864e-01],\n       [1.00375972e-01, 8.99624028e-01],\n       [8.39216372e-01, 1.60783628e-01],\n       [9.93933290e-04, 9.99006067e-01],\n       [1.03339769e-02, 9.89666023e-01]])"
          },
          "metadata": {}
        }
      ]
    },
    {
      "metadata": {
        "trusted": true,
        "collapsed": true
      },
      "cell_type": "code",
      "source": "pred1_05=np.where(pred_train_prob[:,1]>=0.7,1,0)",
      "execution_count": 90,
      "outputs": []
    },
    {
      "metadata": {
        "trusted": true,
        "collapsed": true
      },
      "cell_type": "code",
      "source": "pred1_05",
      "execution_count": 91,
      "outputs": [
        {
          "output_type": "execute_result",
          "execution_count": 91,
          "data": {
            "text/plain": "array([1, 1, 0, 1, 1, 1, 0, 1, 0, 0, 0, 0, 0, 0, 0, 0, 1, 0, 0, 1, 0, 1,\n       0, 0, 0, 0, 0, 1, 1, 1, 1, 0, 1, 0, 1, 1, 0, 0, 1, 0, 0, 1, 0, 0,\n       1, 1, 1, 0, 0, 0, 0, 1, 0, 1, 0, 0, 1, 0, 0, 0, 1, 0, 1, 1, 1, 1,\n       1, 1, 1, 1, 0, 0, 0, 1, 0, 0, 0, 1, 1, 1, 1, 1, 1, 1, 0, 0, 0, 1,\n       0, 0, 1, 1, 0, 0, 1, 1, 1, 0, 0, 0, 0])"
          },
          "metadata": {}
        }
      ]
    },
    {
      "metadata": {
        "trusted": true,
        "collapsed": true
      },
      "cell_type": "code",
      "source": "confusion_matrix(y_train,pred1_05)",
      "execution_count": 93,
      "outputs": [
        {
          "output_type": "execute_result",
          "execution_count": 93,
          "data": {
            "text/plain": "array([[46,  3],\n       [ 8, 44]])"
          },
          "metadata": {}
        }
      ]
    },
    {
      "metadata": {
        "trusted": true,
        "collapsed": true
      },
      "cell_type": "code",
      "source": "accuracy_score(y_train,pred1_05)",
      "execution_count": 94,
      "outputs": [
        {
          "output_type": "execute_result",
          "execution_count": 94,
          "data": {
            "text/plain": "0.8910891089108911"
          },
          "metadata": {}
        }
      ]
    },
    {
      "metadata": {
        "trusted": true,
        "collapsed": true
      },
      "cell_type": "code",
      "source": "pred_test=model.predict(x_test[['Rasmussen','DiffCount']])\npred_test",
      "execution_count": 53,
      "outputs": [
        {
          "output_type": "execute_result",
          "execution_count": 53,
          "data": {
            "text/plain": "array([1, 0, 1, 1, 1, 0, 0, 1, 0, 0, 1, 1, 0, 0, 0, 0, 1, 0, 1, 0, 0, 0,\n       0, 1, 1, 0, 0, 0, 0, 1, 0, 1, 1, 0, 1, 1, 0, 1, 0, 1, 1, 1, 1, 1])"
          },
          "metadata": {}
        }
      ]
    },
    {
      "metadata": {
        "trusted": true,
        "collapsed": true
      },
      "cell_type": "code",
      "source": "pred_test_prob=model.predict_proba(x_test[['Rasmussen','DiffCount']])\npred_test_prob[:8]",
      "execution_count": 64,
      "outputs": [
        {
          "output_type": "execute_result",
          "execution_count": 64,
          "data": {
            "text/plain": "array([[4.10676780e-01, 5.89323220e-01],\n       [8.17316559e-01, 1.82683441e-01],\n       [5.62892145e-05, 9.99943711e-01],\n       [3.41893197e-01, 6.58106803e-01],\n       [4.98077522e-04, 9.99501922e-01],\n       [9.99993932e-01, 6.06844547e-06],\n       [9.89891671e-01, 1.01083290e-02],\n       [2.41199882e-02, 9.75880012e-01]])"
          },
          "metadata": {}
        }
      ]
    },
    {
      "metadata": {
        "trusted": true,
        "collapsed": true
      },
      "cell_type": "code",
      "source": "pred2=np.where(pred_test_prob[:,1]>=0.7,1,0)",
      "execution_count": 86,
      "outputs": []
    },
    {
      "metadata": {
        "trusted": true,
        "collapsed": true
      },
      "cell_type": "code",
      "source": "pred2",
      "execution_count": 87,
      "outputs": [
        {
          "output_type": "execute_result",
          "execution_count": 87,
          "data": {
            "text/plain": "array([0, 0, 1, 0, 1, 0, 0, 1, 0, 0, 0, 0, 0, 0, 0, 0, 1, 0, 1, 0, 0, 0,\n       0, 0, 1, 0, 0, 0, 0, 1, 0, 1, 1, 0, 1, 1, 0, 1, 0, 1, 0, 1, 1, 0])"
          },
          "metadata": {}
        }
      ]
    },
    {
      "metadata": {
        "trusted": true,
        "collapsed": true
      },
      "cell_type": "code",
      "source": "confusion_matrix(y_test,pred2)",
      "execution_count": 88,
      "outputs": [
        {
          "output_type": "execute_result",
          "execution_count": 88,
          "data": {
            "text/plain": "array([[22,  0],\n       [ 7, 15]])"
          },
          "metadata": {}
        }
      ]
    },
    {
      "metadata": {
        "trusted": true,
        "collapsed": true
      },
      "cell_type": "code",
      "source": "accuracy_score(y_test,pred2)",
      "execution_count": 89,
      "outputs": [
        {
          "output_type": "execute_result",
          "execution_count": 89,
          "data": {
            "text/plain": "0.8409090909090909"
          },
          "metadata": {}
        }
      ]
    },
    {
      "metadata": {
        "trusted": true,
        "collapsed": true
      },
      "cell_type": "code",
      "source": "roc_curve?",
      "execution_count": 96,
      "outputs": []
    },
    {
      "metadata": {
        "trusted": true,
        "collapsed": true
      },
      "cell_type": "code",
      "source": "fpr,tpr,t = roc_curve(y_train, pred_train_prob[:,1],pos_label=1)",
      "execution_count": 98,
      "outputs": []
    },
    {
      "metadata": {
        "trusted": true,
        "collapsed": true
      },
      "cell_type": "code",
      "source": "fpr",
      "execution_count": 99,
      "outputs": [
        {
          "output_type": "execute_result",
          "execution_count": 99,
          "data": {
            "text/plain": "array([0.        , 0.        , 0.        , 0.        , 0.        ,\n       0.        , 0.        , 0.        , 0.        , 0.        ,\n       0.02040816, 0.02040816, 0.02040816, 0.02040816, 0.02040816,\n       0.02040816, 0.04081633, 0.06122449, 0.06122449, 0.08163265,\n       0.2244898 , 0.32653061, 0.36734694, 0.44897959, 0.48979592,\n       0.6122449 , 0.65306122, 0.93877551, 0.97959184, 1.        ])"
          },
          "metadata": {}
        }
      ]
    },
    {
      "metadata": {
        "trusted": true,
        "collapsed": true
      },
      "cell_type": "code",
      "source": "tpr",
      "execution_count": 100,
      "outputs": [
        {
          "output_type": "execute_result",
          "execution_count": 100,
          "data": {
            "text/plain": "array([0.        , 0.01923077, 0.05769231, 0.13461538, 0.17307692,\n       0.23076923, 0.26923077, 0.28846154, 0.34615385, 0.38461538,\n       0.38461538, 0.57692308, 0.65384615, 0.67307692, 0.75      ,\n       0.76923077, 0.76923077, 0.84615385, 1.        , 1.        ,\n       1.        , 1.        , 1.        , 1.        , 1.        ,\n       1.        , 1.        , 1.        , 1.        , 1.        ])"
          },
          "metadata": {}
        }
      ]
    },
    {
      "metadata": {
        "trusted": true,
        "collapsed": true
      },
      "cell_type": "code",
      "source": "t",
      "execution_count": 101,
      "outputs": [
        {
          "output_type": "execute_result",
          "execution_count": 101,
          "data": {
            "text/plain": "array([1.99977897e+00, 9.99778969e-01, 9.99501922e-01, 9.99006067e-01,\n       9.98925864e-01, 9.96502760e-01, 9.95895876e-01, 9.95754352e-01,\n       9.95184187e-01, 9.94537872e-01, 9.91958748e-01, 9.58921654e-01,\n       9.50834446e-01, 9.50530160e-01, 8.99624028e-01, 8.93601583e-01,\n       8.69818343e-01, 8.05958697e-01, 6.58106803e-01, 6.19576595e-01,\n       1.60783628e-01, 1.35539367e-02, 8.75983736e-03, 3.45321816e-03,\n       3.22665346e-03, 5.52790298e-04, 5.21398886e-04, 4.55348766e-06,\n       4.01208411e-06, 1.52326757e-07])"
          },
          "metadata": {}
        }
      ]
    },
    {
      "metadata": {
        "trusted": true,
        "collapsed": true
      },
      "cell_type": "code",
      "source": "#plt.plot(fpr,tpr)\n%matplotlib inline\n#plt.figure(figsize=(5,5))\nplt.scatter(fpr,tpr,c=t,s=70)\nplt.colorbar(ticks=np.arange(0,1,0.1))\n#plt.annotate(t,(fpr,tpr))\n#ax = plt.gca()\n#ax.annotate()",
      "execution_count": 117,
      "outputs": [
        {
          "output_type": "execute_result",
          "execution_count": 117,
          "data": {
            "text/plain": "<matplotlib.colorbar.Colorbar at 0x7f6eba339438>"
          },
          "metadata": {}
        },
        {
          "output_type": "display_data",
          "data": {
            "image/png": "[encoded data removed]",
            "text/plain": "<Figure size 432x288 with 2 Axes>"
          },
          "metadata": {
            "needs_background": "light"
          }
        }
      ]
    },
    {
      "metadata": {
        "trusted": true,
        "collapsed": true
      },
      "cell_type": "code",
      "source": "auc(fpr,tpr)    # Area under Curve for the model",
      "execution_count": 104,
      "outputs": [
        {
          "output_type": "execute_result",
          "execution_count": 104,
          "data": {
            "text/plain": "0.9788069073783359"
          },
          "metadata": {}
        }
      ]
    },
    {
      "metadata": {
        "trusted": true,
        "collapsed": true
      },
      "cell_type": "code",
      "source": "import matplotlib as mpl",
      "execution_count": 110,
      "outputs": []
    },
    {
      "metadata": {
        "trusted": true,
        "collapsed": true
      },
      "cell_type": "code",
      "source": "%matplotlib inline\nplt.figure(figsize=(5,5))\nplt.scatter(fpr,tpr,c=t,s=100)\nplt.colorbar(ticks=np.arange(0,1,0.1),spacing= 'proportional')\n",
      "execution_count": 116,
      "outputs": [
        {
          "output_type": "execute_result",
          "execution_count": 116,
          "data": {
            "text/plain": "<matplotlib.colorbar.Colorbar at 0x7f6ebaee44e0>"
          },
          "metadata": {}
        },
        {
          "output_type": "display_data",
          "data": {
            "image/png": "[encoded data removed]",
            "text/plain": "<Figure size 360x360 with 2 Axes>"
          },
          "metadata": {
            "needs_background": "light"
          }
        }
      ]
    },
    {
      "metadata": {
        "trusted": true,
        "collapsed": true
      },
      "cell_type": "code",
      "source": "auc(fpr,tpr)",
      "execution_count": 107,
      "outputs": [
        {
          "output_type": "execute_result",
          "execution_count": 107,
          "data": {
            "text/plain": "0.9788069073783359"
          },
          "metadata": {}
        }
      ]
    },
    {
      "metadata": {
        "trusted": true,
        "collapsed": true
      },
      "cell_type": "code",
      "source": "polling.corr()",
      "execution_count": 106,
      "outputs": [
        {
          "output_type": "execute_result",
          "execution_count": 106,
          "data": {
            "text/html": "<div>\n<style scoped>\n    .dataframe tbody tr th:only-of-type {\n        vertical-align: middle;\n    }\n\n    .dataframe tbody tr th {\n        vertical-align: top;\n    }\n\n    .dataframe thead th {\n        text-align: right;\n    }\n</style>\n<table border=\"1\" class=\"dataframe\">\n  <thead>\n    <tr style=\"text-align: right;\">\n      <th></th>\n      <th>Year</th>\n      <th>Rasmussen</th>\n      <th>SurveyUSA</th>\n      <th>DiffCount</th>\n      <th>PropR</th>\n      <th>Republican</th>\n    </tr>\n  </thead>\n  <tbody>\n    <tr>\n      <th>Year</th>\n      <td>1.000000</td>\n      <td>-0.056242</td>\n      <td>-0.182000</td>\n      <td>-0.187690</td>\n      <td>-0.114478</td>\n      <td>-0.127065</td>\n    </tr>\n    <tr>\n      <th>Rasmussen</th>\n      <td>-0.056242</td>\n      <td>1.000000</td>\n      <td>0.529721</td>\n      <td>0.497419</td>\n      <td>0.641346</td>\n      <td>0.616439</td>\n    </tr>\n    <tr>\n      <th>SurveyUSA</th>\n      <td>-0.182000</td>\n      <td>0.529721</td>\n      <td>1.000000</td>\n      <td>0.504853</td>\n      <td>0.610257</td>\n      <td>0.573299</td>\n    </tr>\n    <tr>\n      <th>DiffCount</th>\n      <td>-0.187690</td>\n      <td>0.497419</td>\n      <td>0.504853</td>\n      <td>1.000000</td>\n      <td>0.828518</td>\n      <td>0.801661</td>\n    </tr>\n    <tr>\n      <th>PropR</th>\n      <td>-0.114478</td>\n      <td>0.641346</td>\n      <td>0.610257</td>\n      <td>0.828518</td>\n      <td>1.000000</td>\n      <td>0.951283</td>\n    </tr>\n    <tr>\n      <th>Republican</th>\n      <td>-0.127065</td>\n      <td>0.616439</td>\n      <td>0.573299</td>\n      <td>0.801661</td>\n      <td>0.951283</td>\n      <td>1.000000</td>\n    </tr>\n  </tbody>\n</table>\n</div>",
            "text/plain": "                Year  Rasmussen  SurveyUSA  DiffCount     PropR  Republican\nYear        1.000000  -0.056242  -0.182000  -0.187690 -0.114478   -0.127065\nRasmussen  -0.056242   1.000000   0.529721   0.497419  0.641346    0.616439\nSurveyUSA  -0.182000   0.529721   1.000000   0.504853  0.610257    0.573299\nDiffCount  -0.187690   0.497419   0.504853   1.000000  0.828518    0.801661\nPropR      -0.114478   0.641346   0.610257   0.828518  1.000000    0.951283\nRepublican -0.127065   0.616439   0.573299   0.801661  0.951283    1.000000"
          },
          "metadata": {}
        }
      ]
    },
    {
      "metadata": {},
      "cell_type": "markdown",
      "source": "# model 2 with all variable"
    },
    {
      "metadata": {
        "trusted": true,
        "collapsed": true
      },
      "cell_type": "code",
      "source": "model2=LogisticRegression()\nmodel2.fit(x_train,y_train)",
      "execution_count": 118,
      "outputs": [
        {
          "output_type": "stream",
          "text": "/home/nbuser/anaconda3_501/lib/python3.6/site-packages/sklearn/linear_model/logistic.py:433: FutureWarning: Default solver will be changed to 'lbfgs' in 0.22. Specify a solver to silence this warning.\n  FutureWarning)\n",
          "name": "stderr"
        },
        {
          "output_type": "execute_result",
          "execution_count": 118,
          "data": {
            "text/plain": "LogisticRegression(C=1.0, class_weight=None, dual=False, fit_intercept=True,\n          intercept_scaling=1, max_iter=100, multi_class='warn',\n          n_jobs=None, penalty='l2', random_state=None, solver='warn',\n          tol=0.0001, verbose=0, warm_start=False)"
          },
          "metadata": {}
        }
      ]
    },
    {
      "metadata": {
        "trusted": true,
        "collapsed": true
      },
      "cell_type": "code",
      "source": "model2.score(x_train,y_train)",
      "execution_count": 119,
      "outputs": [
        {
          "output_type": "execute_result",
          "execution_count": 119,
          "data": {
            "text/plain": "0.9603960396039604"
          },
          "metadata": {}
        }
      ]
    },
    {
      "metadata": {
        "trusted": true,
        "collapsed": true
      },
      "cell_type": "code",
      "source": "#predict on train data\ny_pred_train1=model2.predict(x_train)\ny_pred_train1",
      "execution_count": 124,
      "outputs": [
        {
          "output_type": "execute_result",
          "execution_count": 124,
          "data": {
            "text/plain": "array([1, 1, 0, 1, 1, 1, 1, 1, 0, 0, 0, 0, 0, 0, 0, 0, 1, 0, 1, 1, 0, 1,\n       0, 0, 0, 0, 0, 1, 1, 1, 1, 0, 1, 0, 1, 1, 0, 0, 1, 0, 0, 1, 0, 0,\n       1, 1, 1, 0, 0, 1, 1, 1, 0, 1, 0, 1, 1, 0, 0, 0, 1, 0, 1, 1, 1, 1,\n       1, 1, 1, 1, 0, 1, 0, 1, 0, 1, 1, 1, 1, 1, 1, 1, 1, 1, 0, 0, 0, 1,\n       1, 0, 1, 1, 0, 0, 1, 1, 1, 0, 0, 0, 0])"
          },
          "metadata": {}
        }
      ]
    },
    {
      "metadata": {
        "trusted": true,
        "collapsed": true
      },
      "cell_type": "code",
      "source": "pred_train_prob1=model2.predict_proba(x_train)\npred_train_prob1[:5]",
      "execution_count": 120,
      "outputs": [
        {
          "output_type": "execute_result",
          "execution_count": 120,
          "data": {
            "text/plain": "array([[1.74807642e-03, 9.98251924e-01],\n       [9.52227179e-04, 9.99047773e-01],\n       [8.59916508e-01, 1.40083492e-01],\n       [6.38649219e-04, 9.99361351e-01],\n       [1.71335914e-02, 9.82866409e-01]])"
          },
          "metadata": {}
        }
      ]
    },
    {
      "metadata": {},
      "cell_type": "markdown",
      "source": "roc"
    },
    {
      "metadata": {
        "trusted": true,
        "collapsed": true
      },
      "cell_type": "code",
      "source": "fpr,tpr,t = roc_curve(y_train, pred_train_prob1[:,1],pos_label=1)",
      "execution_count": 125,
      "outputs": []
    },
    {
      "metadata": {
        "trusted": true,
        "collapsed": true
      },
      "cell_type": "code",
      "source": "print(fpr)\nprint(tpr)",
      "execution_count": 126,
      "outputs": [
        {
          "output_type": "stream",
          "text": "[0.         0.         0.         0.         0.         0.02040816\n 0.02040816 0.02040816 0.04081633 0.04081633 0.06122449 0.06122449\n 0.08163265 0.20408163 1.        ]\n[0.         0.01923077 0.42307692 0.48076923 0.61538462 0.61538462\n 0.75       0.78846154 0.78846154 0.86538462 0.86538462 1.\n 1.         1.         1.        ]\n[1.99999946e+00 9.99999458e-01 9.90995152e-01 9.89248467e-01\n 9.68141955e-01 9.67559106e-01 8.91636732e-01 8.75965019e-01\n 8.33376573e-01 8.14919374e-01 7.55938347e-01 7.32987414e-01\n 5.45810416e-01 1.40083492e-01 1.76003074e-06]\n",
          "name": "stdout"
        }
      ]
    },
    {
      "metadata": {
        "trusted": true,
        "collapsed": true
      },
      "cell_type": "code",
      "source": "print(t)\n",
      "execution_count": 127,
      "outputs": [
        {
          "output_type": "stream",
          "text": "[1.99999946e+00 9.99999458e-01 9.90995152e-01 9.89248467e-01\n 9.68141955e-01 9.67559106e-01 8.91636732e-01 8.75965019e-01\n 8.33376573e-01 8.14919374e-01 7.55938347e-01 7.32987414e-01\n 5.45810416e-01 1.40083492e-01 1.76003074e-06]\n",
          "name": "stdout"
        }
      ]
    },
    {
      "metadata": {
        "trusted": true,
        "collapsed": true
      },
      "cell_type": "code",
      "source": "print(tpr)",
      "execution_count": 128,
      "outputs": [
        {
          "output_type": "stream",
          "text": "[0.         0.01923077 0.42307692 0.48076923 0.61538462 0.61538462\n 0.75       0.78846154 0.78846154 0.86538462 0.86538462 1.\n 1.         1.         1.        ]\n",
          "name": "stdout"
        }
      ]
    },
    {
      "metadata": {
        "trusted": true,
        "collapsed": true
      },
      "cell_type": "code",
      "source": "auc(fpr,tpr)",
      "execution_count": 134,
      "outputs": [
        {
          "output_type": "execute_result",
          "execution_count": 134,
          "data": {
            "text/plain": "0.9850863422291993"
          },
          "metadata": {}
        }
      ]
    },
    {
      "metadata": {
        "trusted": true,
        "collapsed": true
      },
      "cell_type": "code",
      "source": "#plt.plot(fpr,tpr)\n%matplotlib inline\n#plt.figure(figsize=(5,5))\nplt.scatter(fpr,tpr,c=t,s=80)\nplt.colorbar(ticks=np.arange(0,1,0.1))\n#plt.annotate(t,(fpr,tpr))\n#ax = plt.gca()\n#ax.annotate()",
      "execution_count": 129,
      "outputs": [
        {
          "output_type": "execute_result",
          "execution_count": 129,
          "data": {
            "text/plain": "<matplotlib.colorbar.Colorbar at 0x7f6eba2eff28>"
          },
          "metadata": {}
        },
        {
          "output_type": "display_data",
          "data": {
            "image/png": "[encoded data removed]",
            "text/plain": "<Figure size 432x288 with 2 Axes>"
          },
          "metadata": {
            "needs_background": "light"
          }
        }
      ]
    },
    {
      "metadata": {
        "trusted": true,
        "collapsed": true
      },
      "cell_type": "code",
      "source": "#prediction on the base of threshold\npred1_06=np.where(pred_train_prob1[:,1]>=0.8,1,0)",
      "execution_count": 130,
      "outputs": []
    },
    {
      "metadata": {
        "trusted": true,
        "collapsed": true
      },
      "cell_type": "code",
      "source": "pred1_06",
      "execution_count": 131,
      "outputs": [
        {
          "output_type": "execute_result",
          "execution_count": 131,
          "data": {
            "text/plain": "array([1, 1, 0, 1, 1, 1, 0, 0, 0, 0, 0, 0, 0, 0, 0, 0, 1, 0, 0, 1, 0, 1,\n       0, 0, 0, 0, 0, 1, 1, 1, 1, 0, 1, 0, 1, 1, 0, 0, 1, 0, 0, 1, 0, 0,\n       1, 1, 1, 0, 0, 0, 0, 1, 0, 1, 0, 0, 1, 0, 0, 0, 1, 0, 1, 1, 1, 1,\n       1, 1, 1, 1, 0, 0, 0, 1, 0, 0, 1, 1, 1, 1, 1, 1, 1, 1, 0, 0, 0, 1,\n       0, 0, 1, 1, 0, 0, 1, 1, 1, 0, 0, 0, 0])"
          },
          "metadata": {}
        }
      ]
    },
    {
      "metadata": {
        "trusted": true,
        "collapsed": true
      },
      "cell_type": "code",
      "source": "confusion_matrix(y_train,pred1_06)",
      "execution_count": 132,
      "outputs": [
        {
          "output_type": "execute_result",
          "execution_count": 132,
          "data": {
            "text/plain": "array([[47,  2],\n       [ 7, 45]])"
          },
          "metadata": {}
        }
      ]
    },
    {
      "metadata": {
        "trusted": true,
        "collapsed": true
      },
      "cell_type": "code",
      "source": "accuracy_score(y_train,pred1_06)",
      "execution_count": 133,
      "outputs": [
        {
          "output_type": "execute_result",
          "execution_count": 133,
          "data": {
            "text/plain": "0.9108910891089109"
          },
          "metadata": {}
        }
      ]
    },
    {
      "metadata": {
        "trusted": true,
        "collapsed": true
      },
      "cell_type": "code",
      "source": "#predict on test data\npred_test_prob1=model2.predict_proba(x_test)\npred_test_prob1[:2]",
      "execution_count": 135,
      "outputs": [
        {
          "output_type": "execute_result",
          "execution_count": 135,
          "data": {
            "text/plain": "array([[0.33206696, 0.66793304],\n       [0.74941321, 0.25058679]])"
          },
          "metadata": {}
        }
      ]
    },
    {
      "metadata": {
        "trusted": true,
        "collapsed": true
      },
      "cell_type": "code",
      "source": "pred1_test_06=np.where(pred_test_prob1[:,1]>=0.8,1,0)\npred1_test_06",
      "execution_count": 137,
      "outputs": [
        {
          "output_type": "execute_result",
          "execution_count": 137,
          "data": {
            "text/plain": "array([0, 0, 1, 0, 1, 0, 0, 1, 0, 0, 0, 0, 0, 0, 0, 0, 1, 0, 1, 0, 0, 0,\n       0, 0, 1, 0, 0, 0, 0, 1, 0, 1, 1, 0, 1, 1, 0, 1, 0, 1, 1, 1, 1, 0])"
          },
          "metadata": {}
        }
      ]
    },
    {
      "metadata": {
        "trusted": true,
        "collapsed": true
      },
      "cell_type": "code",
      "source": "confusion_matrix(y_test,pred1_test_06)",
      "execution_count": 138,
      "outputs": [
        {
          "output_type": "execute_result",
          "execution_count": 138,
          "data": {
            "text/plain": "array([[22,  0],\n       [ 6, 16]])"
          },
          "metadata": {}
        }
      ]
    },
    {
      "metadata": {
        "trusted": true,
        "collapsed": true
      },
      "cell_type": "code",
      "source": "accuracy_score(y_test,pred1_test_06)",
      "execution_count": 139,
      "outputs": [
        {
          "output_type": "execute_result",
          "execution_count": 139,
          "data": {
            "text/plain": "0.8636363636363636"
          },
          "metadata": {}
        }
      ]
    }
  ],
  "metadata": {
    "kernelspec": {
      "name": "python36",
      "display_name": "Python 3.6",
      "language": "python"
    },
    "language_info": {
      "mimetype": "text/x-python",
      "nbconvert_exporter": "python",
      "name": "python",
      "pygments_lexer": "ipython3",
      "version": "3.6.6",
      "file_extension": ".py",
      "codemirror_mode": {
        "version": 3,
        "name": "ipython"
      }
    }
  },
  "nbformat": 4,
  "nbformat_minor": 2
}